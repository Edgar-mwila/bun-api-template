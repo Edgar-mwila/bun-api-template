{
 "cells": [
  {
   "cell_type": "markdown",
   "metadata": {},
   "source": [
    "**Data Summary**\n",
    "\n",
    "Using the current set of training examples located in the working directory's data subdirectory under examples.csv the following cells calculate several metrics about the dataset to help decide which models would best fit the dataset. \n",
    "\n",
    "For my use, the current flags set in the Stocker `main.py` code are\n",
    "\n",
    "```python\n",
    "flags = {\n",
    "            'date_checker': True, \n",
    "            'depth': 1, \n",
    "            'validate_url': False, \n",
    "            'length_check': True,\n",
    "            'min_length': 100,            \n",
    "\n",
    "}\n",
    "```\n",
    "\n",
    "Using the following metrics, we can begin building the models IPython notebook which will use Scikit and Tensorflow to build several different classifiers including but not limited to neural networks, SVMs, boosting, Naive Bayes Classifier, and Decision Trees.  \n",
    "\n",
    "Note: Stocker does not require that you define a path for Stocker's statistics and defaults to None. In the case you do not provide one, for some metrics to compile, you need to define the sources provided as parameters to Stocker and other metrics may not compile at all."
   ]
  },
  {
   "cell_type": "code",
   "execution_count": 112,
   "metadata": {},
   "outputs": [],
   "source": [
    "%matplotlib inline\n",
    "\n",
    "import os \n",
    "\n",
    "import pandas as pd\n",
    "import numpy as np\n",
    "import chardet\n",
    "import json\n",
    "\n",
    "import matplotlib.pyplot as plt\n",
    "import seaborn as sns\n",
    "\n",
    "sns.set(font_scale=1.2)\n",
    "sns.set(color_codes=True)"
   ]
  },
  {
   "cell_type": "code",
   "execution_count": 113,
   "metadata": {},
   "outputs": [],
   "source": [
    "# read data from examples.csv\n",
    "DIR_PATH = os.getcwd()\n",
    "CSV = '/data/examples.csv'\n",
    "PATH = DIR_PATH + CSV\n",
    "\n",
    "df = pd.read_csv(PATH, encoding='latin1')\n",
    "\n",
    "# read data from the stats Stocker gathered\n",
    "STATS = '/data/stocker_stats.json'\n",
    "with open(DIR_PATH + STATS) as data_file:    \n",
    "    stats_data = json.load(data_file)\n",
    "\n",
    "sources = list(stats_data.keys())\n",
    "T = 't6'"
   ]
  },
  {
   "cell_type": "markdown",
   "metadata": {},
   "source": [
    "**Classification Metrics**\n",
    "\n",
    "This section looks at the classification distrobution of the data. Each example can be labeled as 1.0 for positive, 0.0 for netural, and -1.0 for negative. These classifcations are found by comparing how the associated stock price for each article reacted after a certain time interval, T, after the article was published. Part of this IPython notebook is to explore how various values for T shape the data distrobution. "
   ]
  },
  {
   "cell_type": "code",
   "execution_count": 114,
   "metadata": {},
   "outputs": [
    {
     "name": "stdout",
     "output_type": "stream",
     "text": [
      "classification\n",
      "0    123\n",
      "Name: url, dtype: int64\n"
     ]
    },
    {
     "data": {
      "text/plain": [
       "<matplotlib.axes._subplots.AxesSubplot at 0x10fee7d30>"
      ]
     },
     "execution_count": 114,
     "metadata": {},
     "output_type": "execute_result"
    },
    {
     "data": {
      "image/png": "[encoded data removed]",
      "text/plain": [
       "<matplotlib.figure.Figure at 0x10ee9dcf8>"
      ]
     },
     "metadata": {},
     "output_type": "display_data"
    }
   ],
   "source": [
    "# sort by classificaion\n",
    "df['classification'] = df.apply(lambda row: int(row[T] - row['t0']), axis=1)\n",
    "class_grps = df.groupby('classification')\n",
    "print(class_grps.count()['url']) # doesnt matter which index we use -- they are all equal\n",
    "\n",
    "# plot histogram of number of pos and neg\n",
    "classificaions = df['classification']\n",
    "sns.distplot(classificaions, bins=3, kde=False)"
   ]
  },
  {
   "cell_type": "code",
   "execution_count": 115,
   "metadata": {},
   "outputs": [
    {
     "name": "stdout",
     "output_type": "stream",
     "text": [
      "source\n",
      "bloomberg       56\n",
      "investopedia    10\n",
      "reuters         37\n",
      "seekingalpha    20\n",
      "Name: classification, dtype: int64\n"
     ]
    }
   ],
   "source": [
    "# plot average classification per source\n",
    "source_dist = df.groupby('source').count()\n",
    "print(source_dist['classification'])"
   ]
  },
  {
   "cell_type": "markdown",
   "metadata": {},
   "source": [
    "**Article Metrics**\n",
    "\n",
    "One of the main aspects of this study is aggregating articles published by reputable news sources. Therefore, this section serves to make sure that the data we are getting is correct and that the web parser/scraper is working for the inputted sources. If you see some sources are not represented as you would expect, check for error in how Stocker parsed the values found from the associated quereis. Debugging `/data/output.log` could offer some insight. "
   ]
  },
  {
   "cell_type": "code",
   "execution_count": 151,
   "metadata": {},
   "outputs": [
    {
     "name": "stdout",
     "output_type": "stream",
     "text": [
      "Average article length is 672.4634146341464 words\n"
     ]
    }
   ],
   "source": [
    "# average article length in general\n",
    "\n",
    "# we need to split the article by the space value to get a list of words \n",
    "df['article_len'] = df.apply(lambda row: len(row['article'].split(' ')), axis=1)\n",
    "\n",
    "# show the first 5 entries to ensure things look right\n",
    "#print(df.head())\n",
    "\n",
    "print('Average article length is {} words'.format(df['article_len'].mean()))"
   ]
  },
  {
   "cell_type": "code",
   "execution_count": 152,
   "metadata": {},
   "outputs": [
    {
     "name": "stdout",
     "output_type": "stream",
     "text": [
      "source\n",
      "bloomberg        597.392857\n",
      "investopedia     526.600000\n",
      "reuters          435.621622\n",
      "seekingalpha    1393.750000\n",
      "Name: article_len, dtype: float64\n"
     ]
    }
   ],
   "source": [
    "# plot average article length by source\n",
    "\n",
    "# change to the sources used to fill in examples.csv\n",
    "#sources = ['seekingalpha', 'bloomberg', 'reuters', 'businessinsider', 'investopedia']  \n",
    "\n",
    "source_dist = df.groupby('source')\n",
    "print(source_dist.mean()['article_len'])"
   ]
  },
  {
   "cell_type": "markdown",
   "metadata": {},
   "source": [
    "**Source Metrics**\n",
    "\n",
    "Now we look at how well Stocker handles each source by analyzing their accuracy. I define their accuracy by finding the number of URLs found per each source query divided by the number of Web Nodes writen to disk (examples) for each query with the source as input."
   ]
  },
  {
   "cell_type": "code",
   "execution_count": 166,
   "metadata": {},
   "outputs": [
    {
     "data": {
      "text/html": [
       "<div>\n",
       "<style scoped>\n",
       "    .dataframe tbody tr th:only-of-type {\n",
       "        vertical-align: middle;\n",
       "    }\n",
       "\n",
       "    .dataframe tbody tr th {\n",
       "        vertical-align: top;\n",
       "    }\n",
       "\n",
       "    .dataframe thead th {\n",
       "        text-align: right;\n",
       "    }\n",
       "</style>\n",
       "<table border=\"1\" class=\"dataframe\">\n",
       "  <thead>\n",
       "    <tr style=\"text-align: right;\">\n",
       "      <th></th>\n",
       "      <th>Nodes</th>\n",
       "      <th>Urls</th>\n",
       "      <th>Accuracy</th>\n",
       "    </tr>\n",
       "  </thead>\n",
       "  <tbody>\n",
       "    <tr>\n",
       "      <th>bloomberg</th>\n",
       "      <td>58</td>\n",
       "      <td>30</td>\n",
       "      <td>1.933333</td>\n",
       "    </tr>\n",
       "    <tr>\n",
       "      <th>businessinsider</th>\n",
       "      <td>0</td>\n",
       "      <td>28</td>\n",
       "      <td>0.000000</td>\n",
       "    </tr>\n",
       "    <tr>\n",
       "      <th>investopedia</th>\n",
       "      <td>12</td>\n",
       "      <td>40</td>\n",
       "      <td>0.300000</td>\n",
       "    </tr>\n",
       "    <tr>\n",
       "      <th>reuters</th>\n",
       "      <td>48</td>\n",
       "      <td>40</td>\n",
       "      <td>1.200000</td>\n",
       "    </tr>\n",
       "    <tr>\n",
       "      <th>seekingalpha</th>\n",
       "      <td>20</td>\n",
       "      <td>28</td>\n",
       "      <td>0.714286</td>\n",
       "    </tr>\n",
       "  </tbody>\n",
       "</table>\n",
       "</div>"
      ],
      "text/plain": [
       "                 Nodes  Urls  Accuracy\n",
       "bloomberg           58    30  1.933333\n",
       "businessinsider      0    28  0.000000\n",
       "investopedia        12    40  0.300000\n",
       "reuters             48    40  1.200000\n",
       "seekingalpha        20    28  0.714286"
      ]
     },
     "execution_count": 166,
     "metadata": {},
     "output_type": "execute_result"
    }
   ],
   "source": [
    "source_stats_df = pd.read_json(json.dumps(stats_data)).transpose()\n",
    "source_stats_df.columns = ['Nodes', 'Urls']\n",
    "\n",
    "source_stats_df['Accuracy'] = source_stats_df.apply(\n",
    "                    lambda row: row['Nodes'] / row['Urls'], axis=1)\n",
    "\n",
    "# print the stats data frame\n",
    "source_stats_df\n"
   ]
  },
  {
   "cell_type": "code",
   "execution_count": null,
   "metadata": {},
   "outputs": [],
   "source": []
  }
 ],
 "metadata": {
  "kernelspec": {
   "display_name": "Python 3",
   "language": "python",
   "name": "python3"
  },
  "language_info": {
   "codemirror_mode": {
    "name": "ipython",
    "version": 3
   },
   "file_extension": ".py",
   "mimetype": "text/x-python",
   "name": "python",
   "nbconvert_exporter": "python",
   "pygments_lexer": "ipython3",
   "version": "3.5.2"
  }
 },
 "nbformat": 4,
 "nbformat_minor": 2
}
